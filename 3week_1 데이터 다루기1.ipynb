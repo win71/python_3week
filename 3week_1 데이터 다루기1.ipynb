{
 "cells": [
  {
   "cell_type": "code",
   "execution_count": null,
   "metadata": {},
   "outputs": [],
   "source": [
    "# 판다스-데이터프레임, 시리즈, 그룹화, 정렬등\n",
    "# numpy\n",
    "# matplotlib : 시각화\n",
    "\n",
    "# 주피터-판다스를 이용한 데이터 분석 및 시각 등을 보고서 형태로 저장할 수 있도록 함\n",
    "\n",
    "#이번주\n",
    "# colaboratory(일명 colab)-구글의 리눅스 서버상에서 분석할 수 있는 환경을 제공\n",
    "# google drive-클라우드 저장공간\n",
    "# git-포트폴리오 및 데이터 공유, 저장 용도로 사용되는 웹상 공간\n",
    "# colab과 google drive, git을 함께 연동시키면 매우 편리함\n"
   ]
  },
  {
   "cell_type": "code",
   "execution_count": null,
   "metadata": {},
   "outputs": [],
   "source": [
    "# 네이버 API : 검색 서비스\n",
    "#카카오 API:vision 서비스(음성, 이미지, 동영상) 분석\n",
    "#구글 API : 사이트 유입 분석(GA :구글 애널리틱스)"
   ]
  }
 ],
 "metadata": {
  "kernelspec": {
   "display_name": "Python 3",
   "language": "python",
   "name": "python3"
  },
  "language_info": {
   "codemirror_mode": {
    "name": "ipython",
    "version": 3
   },
   "file_extension": ".py",
   "mimetype": "text/x-python",
   "name": "python",
   "nbconvert_exporter": "python",
   "pygments_lexer": "ipython3",
   "version": "3.7.1"
  }
 },
 "nbformat": 4,
 "nbformat_minor": 2
}
